{
 "cells": [
  {
   "cell_type": "code",
   "execution_count": 12,
   "id": "2692615e",
   "metadata": {},
   "outputs": [],
   "source": [
    "\n",
    "# reading a file\n",
    "import pandas as pd\n",
    "import numpy as np\n",
    "\n",
    "# file= pd.read_csv(\"test_data2.csv\")\n",
    "file = \"test_data2.csv\""
   ]
  },
  {
   "cell_type": "code",
   "execution_count": 5,
   "id": "f7542ef5",
   "metadata": {},
   "outputs": [],
   "source": [
    "table_name = \"Ttable\""
   ]
  },
  {
   "cell_type": "code",
   "execution_count": 13,
   "id": "13d1105c",
   "metadata": {},
   "outputs": [],
   "source": [
    "# query for creating table\n",
    "create_table_query = f\"create table {table_name}(column_count int, \"\n",
    "# query for inserting data\n",
    "insert_into_table_query = f\"insert into {table_name}(column_count , \""
   ]
  },
  {
   "cell_type": "code",
   "execution_count": 16,
   "id": "6ba908b9",
   "metadata": {},
   "outputs": [],
   "source": [
    "# pd.read_csv(file).dtype"
   ]
  },
  {
   "cell_type": "code",
   "execution_count": 15,
   "id": "84ec0783",
   "metadata": {},
   "outputs": [
    {
     "data": {
      "text/plain": [
       "['Name__dt__object', 'Age__dt__int64', 'Gender__dt__object']"
      ]
     },
     "execution_count": 15,
     "metadata": {},
     "output_type": "execute_result"
    }
   ],
   "source": [
    "# Creating list of column names with adding datatypes after \"__dt__\"\n",
    "columns = [col + \"__dt__\" + str(pd.read_csv(file)[col].dtype) for col in pd.read_csv(file).columns]\n",
    "columns"
   ]
  },
  {
   "cell_type": "code",
   "execution_count": 17,
   "id": "36ab140e",
   "metadata": {},
   "outputs": [],
   "source": [
    "# adding column names to query\n",
    "for col in columns:\n",
    "    create_table_query += f\"{col} text, \"\n",
    "    insert_into_table_query += f'{col}, '\n",
    "    "
   ]
  },
  {
   "cell_type": "code",
   "execution_count": 18,
   "id": "26130142",
   "metadata": {},
   "outputs": [
    {
     "data": {
      "text/plain": [
       "'create table Ttable(column_count int, Name__dt__object text, Age__dt__int64 text, Gender__dt__object text, '"
      ]
     },
     "execution_count": 18,
     "metadata": {},
     "output_type": "execute_result"
    }
   ],
   "source": [
    "create_table_query"
   ]
  },
  {
   "cell_type": "code",
   "execution_count": 19,
   "id": "88801620",
   "metadata": {},
   "outputs": [
    {
     "data": {
      "text/plain": [
       "'insert into Ttable(column_count , Name__dt__object, Age__dt__int64, Gender__dt__object, '"
      ]
     },
     "execution_count": 19,
     "metadata": {},
     "output_type": "execute_result"
    }
   ],
   "source": [
    "insert_into_table_query"
   ]
  },
  {
   "cell_type": "code",
   "execution_count": null,
   "id": "5bc68e22",
   "metadata": {},
   "outputs": [],
   "source": []
  },
  {
   "cell_type": "code",
   "execution_count": null,
   "id": "d106de89",
   "metadata": {},
   "outputs": [],
   "source": []
  }
 ],
 "metadata": {
  "kernelspec": {
   "display_name": "Python 3",
   "language": "python",
   "name": "python3"
  },
  "language_info": {
   "codemirror_mode": {
    "name": "ipython",
    "version": 3
   },
   "file_extension": ".py",
   "mimetype": "text/x-python",
   "name": "python",
   "nbconvert_exporter": "python",
   "pygments_lexer": "ipython3",
   "version": "3.8.12"
  }
 },
 "nbformat": 4,
 "nbformat_minor": 5
}
