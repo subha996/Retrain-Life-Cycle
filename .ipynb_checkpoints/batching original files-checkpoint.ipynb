{
 "cells": [
  {
   "cell_type": "code",
   "execution_count": 1,
   "id": "c6c495d7",
   "metadata": {},
   "outputs": [
    {
     "data": {
      "text/html": [
       "<div>\n",
       "<style scoped>\n",
       "    .dataframe tbody tr th:only-of-type {\n",
       "        vertical-align: middle;\n",
       "    }\n",
       "\n",
       "    .dataframe tbody tr th {\n",
       "        vertical-align: top;\n",
       "    }\n",
       "\n",
       "    .dataframe thead th {\n",
       "        text-align: right;\n",
       "    }\n",
       "</style>\n",
       "<table border=\"1\" class=\"dataframe\">\n",
       "  <thead>\n",
       "    <tr style=\"text-align: right;\">\n",
       "      <th></th>\n",
       "      <th>age</th>\n",
       "      <th>sex</th>\n",
       "      <th>bmi</th>\n",
       "      <th>children</th>\n",
       "      <th>smoker</th>\n",
       "      <th>region</th>\n",
       "      <th>expenses</th>\n",
       "    </tr>\n",
       "  </thead>\n",
       "  <tbody>\n",
       "    <tr>\n",
       "      <th>0</th>\n",
       "      <td>19</td>\n",
       "      <td>female</td>\n",
       "      <td>27.9</td>\n",
       "      <td>0</td>\n",
       "      <td>yes</td>\n",
       "      <td>southwest</td>\n",
       "      <td>16884.92</td>\n",
       "    </tr>\n",
       "    <tr>\n",
       "      <th>1</th>\n",
       "      <td>18</td>\n",
       "      <td>male</td>\n",
       "      <td>33.8</td>\n",
       "      <td>1</td>\n",
       "      <td>no</td>\n",
       "      <td>southeast</td>\n",
       "      <td>1725.55</td>\n",
       "    </tr>\n",
       "    <tr>\n",
       "      <th>2</th>\n",
       "      <td>28</td>\n",
       "      <td>male</td>\n",
       "      <td>33.0</td>\n",
       "      <td>3</td>\n",
       "      <td>no</td>\n",
       "      <td>southeast</td>\n",
       "      <td>4449.46</td>\n",
       "    </tr>\n",
       "    <tr>\n",
       "      <th>3</th>\n",
       "      <td>33</td>\n",
       "      <td>male</td>\n",
       "      <td>22.7</td>\n",
       "      <td>0</td>\n",
       "      <td>no</td>\n",
       "      <td>northwest</td>\n",
       "      <td>21984.47</td>\n",
       "    </tr>\n",
       "    <tr>\n",
       "      <th>4</th>\n",
       "      <td>32</td>\n",
       "      <td>male</td>\n",
       "      <td>28.9</td>\n",
       "      <td>0</td>\n",
       "      <td>no</td>\n",
       "      <td>northwest</td>\n",
       "      <td>3866.86</td>\n",
       "    </tr>\n",
       "    <tr>\n",
       "      <th>...</th>\n",
       "      <td>...</td>\n",
       "      <td>...</td>\n",
       "      <td>...</td>\n",
       "      <td>...</td>\n",
       "      <td>...</td>\n",
       "      <td>...</td>\n",
       "      <td>...</td>\n",
       "    </tr>\n",
       "    <tr>\n",
       "      <th>1333</th>\n",
       "      <td>50</td>\n",
       "      <td>male</td>\n",
       "      <td>31.0</td>\n",
       "      <td>3</td>\n",
       "      <td>no</td>\n",
       "      <td>northwest</td>\n",
       "      <td>10600.55</td>\n",
       "    </tr>\n",
       "    <tr>\n",
       "      <th>1334</th>\n",
       "      <td>18</td>\n",
       "      <td>female</td>\n",
       "      <td>31.9</td>\n",
       "      <td>0</td>\n",
       "      <td>no</td>\n",
       "      <td>northeast</td>\n",
       "      <td>2205.98</td>\n",
       "    </tr>\n",
       "    <tr>\n",
       "      <th>1335</th>\n",
       "      <td>18</td>\n",
       "      <td>female</td>\n",
       "      <td>36.9</td>\n",
       "      <td>0</td>\n",
       "      <td>no</td>\n",
       "      <td>southeast</td>\n",
       "      <td>1629.83</td>\n",
       "    </tr>\n",
       "    <tr>\n",
       "      <th>1336</th>\n",
       "      <td>21</td>\n",
       "      <td>female</td>\n",
       "      <td>25.8</td>\n",
       "      <td>0</td>\n",
       "      <td>no</td>\n",
       "      <td>southwest</td>\n",
       "      <td>2007.95</td>\n",
       "    </tr>\n",
       "    <tr>\n",
       "      <th>1337</th>\n",
       "      <td>61</td>\n",
       "      <td>female</td>\n",
       "      <td>29.1</td>\n",
       "      <td>0</td>\n",
       "      <td>yes</td>\n",
       "      <td>northwest</td>\n",
       "      <td>29141.36</td>\n",
       "    </tr>\n",
       "  </tbody>\n",
       "</table>\n",
       "<p>1338 rows × 7 columns</p>\n",
       "</div>"
      ],
      "text/plain": [
       "      age     sex   bmi  children smoker     region  expenses\n",
       "0      19  female  27.9         0    yes  southwest  16884.92\n",
       "1      18    male  33.8         1     no  southeast   1725.55\n",
       "2      28    male  33.0         3     no  southeast   4449.46\n",
       "3      33    male  22.7         0     no  northwest  21984.47\n",
       "4      32    male  28.9         0     no  northwest   3866.86\n",
       "...   ...     ...   ...       ...    ...        ...       ...\n",
       "1333   50    male  31.0         3     no  northwest  10600.55\n",
       "1334   18  female  31.9         0     no  northeast   2205.98\n",
       "1335   18  female  36.9         0     no  southeast   1629.83\n",
       "1336   21  female  25.8         0     no  southwest   2007.95\n",
       "1337   61  female  29.1         0    yes  northwest  29141.36\n",
       "\n",
       "[1338 rows x 7 columns]"
      ]
     },
     "execution_count": 1,
     "metadata": {},
     "output_type": "execute_result"
    }
   ],
   "source": [
    "#Doing data separation\n",
    "\n",
    "import pandas as pd\n",
    "\n",
    "#Reading the original file.\n",
    "df = pd.read_csv(\"insurance.csv\")\n",
    "\n",
    "df"
   ]
  },
  {
   "cell_type": "code",
   "execution_count": 2,
   "id": "8972a2f3",
   "metadata": {},
   "outputs": [
    {
     "data": {
      "text/plain": [
       "age         0\n",
       "sex         0\n",
       "bmi         0\n",
       "children    0\n",
       "smoker      0\n",
       "region      0\n",
       "expenses    0\n",
       "dtype: int64"
      ]
     },
     "execution_count": 2,
     "metadata": {},
     "output_type": "execute_result"
    }
   ],
   "source": [
    "df.isnull().sum()"
   ]
  },
  {
   "cell_type": "code",
   "execution_count": 12,
   "id": "7ebc6deb",
   "metadata": {},
   "outputs": [],
   "source": [
    "# Dividin data into 6 file with new name\n",
    "# making new folder\n",
    "import os\n",
    "os.mkdir(\"Training_Batch_Files\")"
   ]
  },
  {
   "cell_type": "code",
   "execution_count": 9,
   "id": "5182117c",
   "metadata": {},
   "outputs": [],
   "source": []
  },
  {
   "cell_type": "code",
   "execution_count": 13,
   "id": "30e4dd26",
   "metadata": {},
   "outputs": [],
   "source": [
    "# Creating good files 6 good files\n",
    "fol = \"Training_Batch_Files\" # Folder directory\n",
    "\n",
    "df1 = df.iloc[:200, :]\n",
    "df1.to_csv(fol + \"/insurance_30102021_120000.csv\", index=False) # new file name with data and time stamp.\n",
    "\n",
    "df2 = df.iloc[201:400, :]\n",
    "df2.to_csv(fol + \"/insurance_01112021_500000.csv\", index=False) \n",
    "\n",
    "df3 = df.iloc[401:600, :]\n",
    "df3.to_csv(fol + \"/insurance_02112021_150000.csv\", index=False)\n",
    "\n",
    "df4 = df.iloc[601:800, :]\n",
    "df4.to_csv(fol + \"/insurance_03112021_230000.csv\", index=False)\n",
    "\n",
    "df5 = df.iloc[801:1000, :]\n",
    "df5.to_csv(fol + \"/insurance_04112021_170000.csv\", index=False)\n",
    "\n",
    "df6 = df.iloc[1001:, :]\n",
    "df6.to_csv(fol + \"/insurance_05112021_210000.csv\", index=False)"
   ]
  },
  {
   "cell_type": "code",
   "execution_count": 14,
   "id": "4129cf34",
   "metadata": {},
   "outputs": [],
   "source": [
    "# Creating bad files 5 bad files\n",
    "df2 = df.iloc[201:400, :]\n",
    "df2.to_csv(fol + \"/isura1112021_500000.csv\", index=False) \n",
    "\n",
    "df3 = df.iloc[401:600, :]\n",
    "df3.to_csv(fol + \"/isurce_0211201_000.csv\", index=False)\n",
    "\n",
    "df4 = df.iloc[601:800, :]\n",
    "df4.to_csv(fol + \"/suance_0311202230000.csv\", index=False)\n",
    "\n",
    "df5 = df.iloc[801:1000, :]\n",
    "df5.to_csv(fol + \"/insurace4112021_17000.csv\", index=False)\n"
   ]
  },
  {
   "cell_type": "code",
   "execution_count": 20,
   "id": "5fdb3f96",
   "metadata": {},
   "outputs": [
    {
     "name": "stderr",
     "output_type": "stream",
     "text": [
      "e:\\anaconda3\\envs\\insurance_env\\lib\\site-packages\\pandas\\core\\frame.py:4906: SettingWithCopyWarning: \n",
      "A value is trying to be set on a copy of a slice from a DataFrame\n",
      "\n",
      "See the caveats in the documentation: https://pandas.pydata.org/pandas-docs/stable/user_guide/indexing.html#returning-a-view-versus-a-copy\n",
      "  return super().drop(\n"
     ]
    }
   ],
   "source": [
    "# Creating good prediction batch file 3 file:\n",
    "os.mkdir(\"Prediction_Batch_Files\")\n",
    "\n",
    "fol = \"Prediction_Batch_Files\" # prediction batch folder.\n",
    "\n",
    "df1 = df.iloc[:200, :]\n",
    "df1.drop(\"expenses\", axis=1,inplace=True) # droping target columns.\n",
    "df1.to_csv(fol + \"/insurance_50102021_120000.csv\", index=False) # new file name with data and time stamp.\n",
    "\n",
    "\n",
    "df2 = df.iloc[201:400, :]\n",
    "df2.drop(\"expenses\", axis=1, inplace=True) # droping target columns.\n",
    "df2.to_csv(fol + \"/insurance_25112021_120000.csv\", index=False) \n",
    "\n",
    "df3 = df.iloc[401:600, :]\n",
    "df3.drop(\"expenses\", axis=1, inplace=True) # droping target columns.\n",
    "df3.to_csv(fol + \"/insurance_14112021_150000.csv\", index=False)"
   ]
  },
  {
   "cell_type": "code",
   "execution_count": 21,
   "id": "8c61ca26",
   "metadata": {
    "scrolled": true
   },
   "outputs": [
    {
     "name": "stderr",
     "output_type": "stream",
     "text": [
      "e:\\anaconda3\\envs\\insurance_env\\lib\\site-packages\\pandas\\core\\frame.py:4906: SettingWithCopyWarning: \n",
      "A value is trying to be set on a copy of a slice from a DataFrame\n",
      "\n",
      "See the caveats in the documentation: https://pandas.pydata.org/pandas-docs/stable/user_guide/indexing.html#returning-a-view-versus-a-copy\n",
      "  return super().drop(\n"
     ]
    }
   ],
   "source": [
    "# CReating bad prediction file.\n",
    "df1 = df.iloc[:200, :]\n",
    "df1.drop(\"expenses\", axis=1,inplace=True) # droping target columns.\n",
    "df1.to_csv(fol + \"/insur02021_12000.csv\", index=False) # new file name with data and time stamp.\n",
    "\n",
    "\n",
    "df2 = df.iloc[201:400, :]\n",
    "df2.drop(\"expenses\", axis=1, inplace=True) # droping target columns.\n",
    "df2.to_csv(fol + \"/insance_25111_1200.csv\", index=False) \n",
    "\n",
    "df3 = df.iloc[401:600, :]\n",
    "df3.drop(\"expenses\", axis=1, inplace=True) # droping target columns.\n",
    "df3.to_csv(fol + \"/uran112021_150000.csv\", index=False)"
   ]
  },
  {
   "cell_type": "code",
   "execution_count": 24,
   "id": "25905666",
   "metadata": {},
   "outputs": [],
   "source": [
    "fol = \"Training_Batch_Files\"\n",
    "df6 = df.iloc[1001:, :]\n",
    "df6.to_csv(fol + \"/insurance_06112021_230000.csv\", index=False) # For putting nan columns. 22, 23 put nan"
   ]
  },
  {
   "cell_type": "code",
   "execution_count": 26,
   "id": "383479f8",
   "metadata": {},
   "outputs": [
    {
     "name": "stderr",
     "output_type": "stream",
     "text": [
      "e:\\anaconda3\\envs\\insurance_env\\lib\\site-packages\\pandas\\core\\frame.py:4906: SettingWithCopyWarning: \n",
      "A value is trying to be set on a copy of a slice from a DataFrame\n",
      "\n",
      "See the caveats in the documentation: https://pandas.pydata.org/pandas-docs/stable/user_guide/indexing.html#returning-a-view-versus-a-copy\n",
      "  return super().drop(\n"
     ]
    }
   ],
   "source": [
    "\n",
    "fol = \"Prediction_Batch_Files\" # prediction batch folder. \n",
    "df3 = df.iloc[401:600, :]\n",
    "df3.drop(\"expenses\", axis=1, inplace=True) # droping target columns.\n",
    "df3.to_csv(fol + \"/insurance_14112021_230000.csv\", index=False) # For nan columns 22, 22 put nan"
   ]
  },
  {
   "cell_type": "code",
   "execution_count": null,
   "id": "6b2932ec",
   "metadata": {},
   "outputs": [],
   "source": []
  }
 ],
 "metadata": {
  "kernelspec": {
   "display_name": "Python 3",
   "language": "python",
   "name": "python3"
  },
  "language_info": {
   "codemirror_mode": {
    "name": "ipython",
    "version": 3
   },
   "file_extension": ".py",
   "mimetype": "text/x-python",
   "name": "python",
   "nbconvert_exporter": "python",
   "pygments_lexer": "ipython3",
   "version": "3.8.12"
  }
 },
 "nbformat": 4,
 "nbformat_minor": 5
}
